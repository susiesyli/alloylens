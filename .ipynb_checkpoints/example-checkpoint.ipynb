{
 "cells": [
  {
   "cell_type": "code",
   "execution_count": 1,
   "id": "7195c9ba",
   "metadata": {},
   "outputs": [],
   "source": [
    "# !pip install -i https://test.pypi.org/simple/ --extra-index-url https://pypi.org/simple alloylens==0.0.2"
   ]
  },
  {
   "cell_type": "code",
   "execution_count": 2,
   "id": "acdcddc8",
   "metadata": {},
   "outputs": [],
   "source": [
    "import alloylens as al"
   ]
  },
  {
   "cell_type": "code",
   "execution_count": 3,
   "id": "18bbf103",
   "metadata": {},
   "outputs": [
    {
     "name": "stdout",
     "output_type": "stream",
     "text": [
      "Hello from alloylens!\n"
     ]
    }
   ],
   "source": [
    "from alloylens import *\n",
    "print_hello()  # should print \"Hello, AlloyLens!\""
   ]
  },
  {
   "cell_type": "code",
   "execution_count": 4,
   "id": "d3279e05",
   "metadata": {},
   "outputs": [],
   "source": [
    "# w = al.AlloyLensWidget()"
   ]
  },
  {
   "cell_type": "code",
   "execution_count": 5,
   "id": "95d8f620",
   "metadata": {},
   "outputs": [],
   "source": [
    "# prereq for dev\n",
    "# !pip install \"anywidget[dev]\"\n",
    "\n",
    "from importlib import reload\n",
    "\n",
    "import matplotlib.pyplot as plt\n",
    "import numpy as np\n",
    "\n",
    "# How this notebook should be run with Hot Module Replacement (HMR)\n",
    "# ANYWIDGET_HMR=1 jupyter lab\n",
    "import pandas as pd\n",
    "import seaborn as sns\n",
    "from matplotlib.gridspec import GridSpec\n",
    "\n",
    "# import widgets.mywidget\n",
    "\n",
    "plt.style.use(\"ggplot\")\n",
    "plt.style.use(\"seaborn-v0_8-colorblind\")"
   ]
  },
  {
   "cell_type": "code",
   "execution_count": 6,
   "id": "09fbb823",
   "metadata": {},
   "outputs": [
    {
     "name": "stdout",
     "output_type": "stream",
     "text": [
      "Total number of rows 324632\n"
     ]
    }
   ],
   "source": [
    "# load data\n",
    "\n",
    "df = pd.read_csv(\n",
    "    \"./dataset/Dataset_VisContest_Rapid_Alloy_development_v3.txt\",\n",
    "    encoding=\"latin1\",\n",
    "    sep=\"\\t\",\n",
    "    # remove empty 'unnamed' columns due to extra tabs in the data file\n",
    "    usecols=range(70),\n",
    ")\n",
    "\n",
    "df\n",
    "print(\"Total number of rows\", len(df))"
   ]
  },
  {
   "cell_type": "code",
   "execution_count": 7,
   "id": "0d671b0a",
   "metadata": {},
   "outputs": [],
   "source": [
    "# from alloylens.scatter import Scatter\n",
    "# import pandas as pd\n",
    "# df_small = pd.DataFrame({\"x\":[1,2,3,4,5], \"y\":[3,1,4,2,5]})\n",
    "\n",
    "# s = Scatter()\n",
    "# s.data = {\"columns\": list(df_small.columns), \"records\": df_small.to_dict(orient=\"records\")}\n",
    "# s"
   ]
  },
  {
   "cell_type": "code",
   "execution_count": 8,
   "id": "f7e8aaaf",
   "metadata": {},
   "outputs": [
    {
     "name": "stdout",
     "output_type": "stream",
     "text": [
      "6 Input scraps:\n",
      " ['KS1295[%]', '6082[%]', '2024[%]', 'bat-box[%]', '3003[%]', '4032[%]']\n",
      "\n",
      "12 Elements:\n",
      " ['Al', 'Si', 'Cu', 'Ni', 'Mg', 'Mn', 'Fe', 'Cr', 'Ti', 'Zr', 'V', 'Zn']\n",
      "\n",
      "38 Microstructures:\n",
      " ['Vf_FCC_A1', 'Vf_DIAMOND_A4', 'Vf_AL15SI2M4', 'Vf_AL3X', 'Vf_AL6MN', 'Vf_MG2ZN3', 'Vf_AL3NI2', 'Vf_AL3NI_D011', 'Vf_AL7CU4NI', 'Vf_AL2CU_C16', 'Vf_Q_ALCUMGSI', 'Vf_AL7CU2FE', 'Vf_MG2SI_C1', 'Vf_AL9FE2SI2', 'Vf_AL18FE2MG7SI10', 'eut. frac.[%]', 'eut. T (°C)', 'T_FCC_A1', 'T_DIAMOND_A4', 'T_AL15SI2M4', 'T_AL3X', 'T_AL6MN', 'T_MG2ZN3', 'T_AL3NI2', 'T_AL3NI_D011', 'T_AL7CU4NI', 'T_AL2CU_C16', 'T_Q_ALCUMGSI', 'T_AL7CU2FE', 'T_MG2SI_C1', 'T_AL9FE2SI2', 'T_AL18FE2MG7SI10', 'T(liqu)', 'T(sol)', 'delta_T', 'delta_T_FCC', 'delta_T_Al15Si2M4', 'delta_T_Si']\n",
      "\n",
      "14 Properties:\n",
      " ['CSC', 'YS(MPa)', 'hardness(Vickers)', 'CTEvol(1/K)(20.0-300.0°C)', 'Density(g/cm3)', 'Volume(m3/mol)', 'El.conductivity(S/m)', 'El. resistivity(ohm m)', 'heat capacity(J/(mol K))', 'Therm.conductivity(W/(mK))', 'Therm. diffusivity(m2/s)', 'Therm.resistivity(mK/W)', 'Linear thermal expansion (1/K)(20.0-300.0°C)', 'Technical thermal expansion (1/K)(20.0-300.0°C)']\n",
      "\n"
     ]
    }
   ],
   "source": [
    "# partition data by categories\n",
    "n_inputs = 6\n",
    "n_elements = 12\n",
    "\n",
    "all_cols = df.columns.tolist()\n",
    "input_cols = all_cols[:n_inputs]\n",
    "element_cols = all_cols[n_inputs : n_inputs + n_elements]\n",
    "microstructure_cols = all_cols[18 : 18 + 38]\n",
    "property_cols = all_cols[56:70]\n",
    "\n",
    "print(f\"{len(input_cols)} Input scraps:\\n\", input_cols, end=\"\\n\\n\")\n",
    "print(f\"{len(element_cols)} Elements:\\n\", element_cols, end=\"\\n\\n\")\n",
    "print(f\"{len(microstructure_cols)} Microstructures:\\n\", microstructure_cols, end=\"\\n\\n\")\n",
    "print(f\"{len(property_cols)} Properties:\\n\", property_cols, end=\"\\n\\n\")"
   ]
  },
  {
   "cell_type": "code",
   "execution_count": 9,
   "id": "101b87ff",
   "metadata": {},
   "outputs": [],
   "source": [
    "# handle na\n",
    "df = df.fillna(value=0)\n",
    "\n",
    "# subsample\n",
    "n = 200  # number of samples\n",
    "df = df.sample(n)  # sample data for speed&test\n",
    "# df.to_csv(f'./dataset/data_sample_{n}.csv', index=False)\n",
    "# df"
   ]
  },
  {
   "cell_type": "code",
   "execution_count": 10,
   "id": "d2834043",
   "metadata": {},
   "outputs": [],
   "source": [
    "case1_col_attrs = [\n",
    "    \"YS(MPa)\",\n",
    "    \"hardness(Vickers)\",\n",
    "    \"Density(g/cm3)\",\n",
    "    \"CSC\",\n",
    "    \"Vf_FCC_A1\",\n",
    "    \"delta_T\",\n",
    "]\n",
    "\n",
    "case2_col_attrs = [\n",
    "    \"Therm.conductivity(W/(mK))\",\n",
    "    \"Density(g/cm3)\",\n",
    "    \"Linear thermal expansion (1/K)(20.0-300.0°C)\",\n",
    "    \"hardness(Vickers)\",\n",
    "    # \"CTEvol(1/K)(20.0-300.0°C)\",\n",
    "]\n",
    "\n",
    "case3_col_attrs = [\n",
    "    \"El.conductivity(S/m)\",\n",
    "    \"El. resistivity(ohm m)\",\n",
    "    \"Vf_FCC_A1\",\n",
    "]\n",
    "\n",
    "case4_col_attrs = [\n",
    "    \"delta_T\",\n",
    "    \"CSC\",\n",
    "    \"eut. frac.[%]\",\n",
    "    \"T(liqu)\",\n",
    "]\n",
    "\n",
    "case5_col_attrs = [\n",
    "    \"YS(MPa)\",\n",
    "    \"hardness(Vickers)\",\n",
    "    \"El.conductivity(S/m)\",\n",
    "    \"Density(g/cm3)\",\n",
    "    \"delta_T\",\n",
    "    \"CSC\",\n",
    "    \"Vf_DIAMOND_A4\",\n",
    "    \"Vf_FCC_A1\",\n",
    "]\n",
    "\n",
    "case1_element_cols = [\n",
    "    \"Al\",\n",
    "    \"Si\",\n",
    "    \"Fe\",\n",
    "    \"Cu\",\n",
    "    \"Ni\",\n",
    "    \"Mg\",\n",
    "    \"Mn\",\n",
    "    \"Cr\",\n",
    "    \"Ti\",\n",
    "    \"Zr\",\n",
    "    \"V\",\n",
    "    \"Zn\",\n",
    "]\n",
    "\n",
    "case4_element_cols = [\n",
    "    \"Al\",\n",
    "    \"Fe\",\n",
    "    \"Cu\",\n",
    "    \"Mn\",\n",
    "    \"Si\",\n",
    "    \"Ni\",\n",
    "    \"Mg\",\n",
    "    \"Cr\",\n",
    "    \"Ti\",\n",
    "    \"Zr\",\n",
    "    \"V\",\n",
    "    \"Zn\",\n",
    "]"
   ]
  },
  {
   "cell_type": "code",
   "execution_count": 11,
   "id": "7ae9ce12",
   "metadata": {},
   "outputs": [
    {
     "ename": "AttributeError",
     "evalue": "'AlloyLensWidget' object has no attribute 'set_dataframe'",
     "output_type": "error",
     "traceback": [
      "\u001b[31m---------------------------------------------------------------------------\u001b[39m",
      "\u001b[31mAttributeError\u001b[39m                            Traceback (most recent call last)",
      "\u001b[36mCell\u001b[39m\u001b[36m \u001b[39m\u001b[32mIn[11]\u001b[39m\u001b[32m, line 3\u001b[39m\n\u001b[32m      1\u001b[39m \u001b[38;5;28;01mimport\u001b[39;00m\u001b[38;5;250m \u001b[39m\u001b[34;01malloylens\u001b[39;00m\u001b[38;5;250m \u001b[39m\u001b[38;5;28;01mas\u001b[39;00m\u001b[38;5;250m \u001b[39m\u001b[34;01mal\u001b[39;00m\n\u001b[32m      2\u001b[39m \u001b[38;5;66;03m# df is your big dataframe; we sample to keep the comm message modest\u001b[39;00m\n\u001b[32m----> \u001b[39m\u001b[32m3\u001b[39m w = \u001b[43mal\u001b[49m\u001b[43m.\u001b[49m\u001b[43mAlloyLensWidget\u001b[49m\u001b[43m(\u001b[49m\u001b[43msubplot_width\u001b[49m\u001b[43m=\u001b[49m\u001b[32;43m150\u001b[39;49m\u001b[43m,\u001b[49m\u001b[43m \u001b[49m\u001b[43msubplot_height\u001b[49m\u001b[43m=\u001b[49m\u001b[32;43m150\u001b[39;49m\u001b[43m)\u001b[49m\u001b[43m.\u001b[49m\u001b[43mset_dataframe\u001b[49m(df, max_rows=\u001b[32m50_000\u001b[39m)\n\u001b[32m      5\u001b[39m \u001b[38;5;66;03m# choose your SPLOM axes\u001b[39;00m\n\u001b[32m      6\u001b[39m w.row_attrs = [\u001b[33m\"\u001b[39m\u001b[33mAl\u001b[39m\u001b[33m\"\u001b[39m,\u001b[33m\"\u001b[39m\u001b[33mFe\u001b[39m\u001b[33m\"\u001b[39m,\u001b[33m\"\u001b[39m\u001b[33mCu\u001b[39m\u001b[33m\"\u001b[39m,\u001b[33m\"\u001b[39m\u001b[33mCr\u001b[39m\u001b[33m\"\u001b[39m,\u001b[33m\"\u001b[39m\u001b[33mNi\u001b[39m\u001b[33m\"\u001b[39m,\u001b[33m\"\u001b[39m\u001b[33mMn\u001b[39m\u001b[33m\"\u001b[39m]      \u001b[38;5;66;03m# example\u001b[39;00m\n",
      "\u001b[31mAttributeError\u001b[39m: 'AlloyLensWidget' object has no attribute 'set_dataframe'"
     ]
    }
   ],
   "source": [
    "import alloylens as al\n",
    "# df is your big dataframe; we sample to keep the comm message modest\n",
    "w = al.AlloyLensWidget(subplot_width=150, subplot_height=150).set_dataframe(df, max_rows=50_000)\n",
    "\n",
    "# choose your SPLOM axes\n",
    "w.row_attrs = [\"Al\",\"Fe\",\"Cu\",\"Cr\",\"Ni\",\"Mn\"]      # example\n",
    "w.col_attrs = [\"Al\",\"Fe\",\"Cu\",\"Cr\",\"Ni\",\"Mn\"]\n",
    "\n",
    "w  # display it"
   ]
  },
  {
   "cell_type": "code",
   "execution_count": null,
   "id": "0f4f185e",
   "metadata": {},
   "outputs": [],
   "source": [
    "import alloylens as al\n",
    "# df is your big dataframe; we sample to keep the comm message modest\n",
    "w = al.AlloyLensWidget(subplot_width=150, subplot_height=150).set_dataframe(df)\n",
    "\n",
    "# choose your SPLOM axes\n",
    "w.row_attrs = case1_col_attrs\n",
    "w.col_attrs = case1_element_cols\n",
    "\n",
    "w  # display it"
   ]
  },
  {
   "cell_type": "code",
   "execution_count": null,
   "id": "a7c1f246",
   "metadata": {},
   "outputs": [],
   "source": [
    "# # w = al.AlloyLensWidget(\n",
    "# #     subplot_width=150,\n",
    "# #     subplot_height=150,\n",
    "# #     # surrogate=True,          \n",
    "# # )# ).set_dataframe(df)\n",
    "# # w.data={    \"columns\": list(df.columns),\n",
    "# #     \"records\": df.to_dict(orient=\"records\"),}\n",
    "\n",
    "# # w.row_attrs = case1_col_attrs\n",
    "# # w.col_attrs = case1_element_cols\n",
    "# # # display(w)\n",
    "\n",
    "# # from IPython.display import display\n",
    "# # display(w)\n",
    "# import alloylens as al\n",
    "\n",
    "# w = al.AlloyLensWidget(subplot_width=150, subplot_height=150)\n",
    "# w.data = {\"columns\": list(df.columns), \"records\": df.to_dict(orient=\"records\")}\n",
    "# w.row_attrs = case1_col_attrs\n",
    "# w.col_attrs = case1_element_cols\n",
    "# w\n",
    "\n",
    "# # # (optional) react to brush selection\n",
    "# # w.observe(lambda ch: print(\"selected idx:\", ch[\"new\"]), \"selected_indices\")"
   ]
  },
  {
   "cell_type": "markdown",
   "id": "72c9f19b",
   "metadata": {},
   "source": []
  },
  {
   "cell_type": "code",
   "execution_count": null,
   "id": "44e9fc81",
   "metadata": {},
   "outputs": [],
   "source": [
    "import ipywidgets as W\n",
    "W.IntSlider()           # should render a slider, not just print a repr\n"
   ]
  },
  {
   "cell_type": "code",
   "execution_count": null,
   "id": "702e5802",
   "metadata": {},
   "outputs": [],
   "source": [
    "\n",
    "import anywidget, traitlets as T\n",
    "class Tst(anywidget.AnyWidget):\n",
    "    _esm = \"export function render({el}){ el.textContent = 'anywidget OK'; }\"\n",
    "Tst()                   # should show “anywidget OK”"
   ]
  },
  {
   "cell_type": "code",
   "execution_count": null,
   "id": "fc0ebd21",
   "metadata": {},
   "outputs": [],
   "source": []
  }
 ],
 "metadata": {
  "kernelspec": {
   "display_name": "Python 3 (ipykernel)",
   "language": "python",
   "name": "python3"
  },
  "language_info": {
   "codemirror_mode": {
    "name": "ipython",
    "version": 3
   },
   "file_extension": ".py",
   "mimetype": "text/x-python",
   "name": "python",
   "nbconvert_exporter": "python",
   "pygments_lexer": "ipython3",
   "version": "3.13.2"
  }
 },
 "nbformat": 4,
 "nbformat_minor": 5
}
