{
 "cells": [
  {
   "cell_type": "code",
   "execution_count": null,
   "id": "7195c9ba",
   "metadata": {},
   "outputs": [
    {
     "name": "stdout",
     "output_type": "stream",
     "text": [
      "Looking in indexes: https://test.pypi.org/simple/, https://pypi.org/simple\n",
      "Collecting alloylens==0.0.6\n",
      "  Downloading https://test-files.pythonhosted.org/packages/4d/3d/861e06c528a340f7d770a0520afc5007a3372592d6954c90152673517ee6/alloylens-0.0.6-py3-none-any.whl.metadata (762 bytes)\n",
      "Requirement already satisfied: anywidget>=0.9.0 in /opt/homebrew/Caskroom/miniconda/base/lib/python3.13/site-packages (from alloylens==0.0.6) (0.9.18)\n",
      "Requirement already satisfied: ipywidgets>=8 in /opt/homebrew/Caskroom/miniconda/base/lib/python3.13/site-packages (from alloylens==0.0.6) (8.1.7)\n",
      "Requirement already satisfied: pandas>=1.5 in /opt/homebrew/Caskroom/miniconda/base/lib/python3.13/site-packages (from alloylens==0.0.6) (2.3.3)\n",
      "Requirement already satisfied: numpy>=1.23 in /opt/homebrew/Caskroom/miniconda/base/lib/python3.13/site-packages (from alloylens==0.0.6) (2.3.4)\n",
      "Requirement already satisfied: psygnal>=0.8.1 in /opt/homebrew/Caskroom/miniconda/base/lib/python3.13/site-packages (from anywidget>=0.9.0->alloylens==0.0.6) (0.15.0)\n",
      "Requirement already satisfied: typing-extensions>=4.2.0 in /opt/homebrew/Caskroom/miniconda/base/lib/python3.13/site-packages (from anywidget>=0.9.0->alloylens==0.0.6) (4.15.0)\n",
      "Requirement already satisfied: comm>=0.1.3 in /opt/homebrew/Caskroom/miniconda/base/lib/python3.13/site-packages (from ipywidgets>=8->alloylens==0.0.6) (0.2.3)\n",
      "Requirement already satisfied: ipython>=6.1.0 in /opt/homebrew/Caskroom/miniconda/base/lib/python3.13/site-packages (from ipywidgets>=8->alloylens==0.0.6) (9.6.0)\n",
      "Requirement already satisfied: traitlets>=4.3.1 in /opt/homebrew/Caskroom/miniconda/base/lib/python3.13/site-packages (from ipywidgets>=8->alloylens==0.0.6) (5.14.3)\n",
      "Requirement already satisfied: widgetsnbextension~=4.0.14 in /opt/homebrew/Caskroom/miniconda/base/lib/python3.13/site-packages (from ipywidgets>=8->alloylens==0.0.6) (4.0.14)\n",
      "Requirement already satisfied: jupyterlab_widgets~=3.0.15 in /opt/homebrew/Caskroom/miniconda/base/lib/python3.13/site-packages (from ipywidgets>=8->alloylens==0.0.6) (3.0.15)\n",
      "Requirement already satisfied: python-dateutil>=2.8.2 in /opt/homebrew/Caskroom/miniconda/base/lib/python3.13/site-packages (from pandas>=1.5->alloylens==0.0.6) (2.9.0.post0)\n",
      "Requirement already satisfied: pytz>=2020.1 in /opt/homebrew/Caskroom/miniconda/base/lib/python3.13/site-packages (from pandas>=1.5->alloylens==0.0.6) (2025.2)\n",
      "Requirement already satisfied: tzdata>=2022.7 in /opt/homebrew/Caskroom/miniconda/base/lib/python3.13/site-packages (from pandas>=1.5->alloylens==0.0.6) (2025.2)\n",
      "Requirement already satisfied: decorator in /opt/homebrew/Caskroom/miniconda/base/lib/python3.13/site-packages (from ipython>=6.1.0->ipywidgets>=8->alloylens==0.0.6) (5.2.1)\n",
      "Requirement already satisfied: ipython-pygments-lexers in /opt/homebrew/Caskroom/miniconda/base/lib/python3.13/site-packages (from ipython>=6.1.0->ipywidgets>=8->alloylens==0.0.6) (1.1.1)\n",
      "Requirement already satisfied: jedi>=0.16 in /opt/homebrew/Caskroom/miniconda/base/lib/python3.13/site-packages (from ipython>=6.1.0->ipywidgets>=8->alloylens==0.0.6) (0.19.2)\n",
      "Requirement already satisfied: matplotlib-inline in /opt/homebrew/Caskroom/miniconda/base/lib/python3.13/site-packages (from ipython>=6.1.0->ipywidgets>=8->alloylens==0.0.6) (0.2.1)\n",
      "Requirement already satisfied: pexpect>4.3 in /opt/homebrew/Caskroom/miniconda/base/lib/python3.13/site-packages (from ipython>=6.1.0->ipywidgets>=8->alloylens==0.0.6) (4.9.0)\n",
      "Requirement already satisfied: prompt_toolkit<3.1.0,>=3.0.41 in /opt/homebrew/Caskroom/miniconda/base/lib/python3.13/site-packages (from ipython>=6.1.0->ipywidgets>=8->alloylens==0.0.6) (3.0.52)\n",
      "Requirement already satisfied: pygments>=2.4.0 in /opt/homebrew/Caskroom/miniconda/base/lib/python3.13/site-packages (from ipython>=6.1.0->ipywidgets>=8->alloylens==0.0.6) (2.19.2)\n",
      "Requirement already satisfied: stack_data in /opt/homebrew/Caskroom/miniconda/base/lib/python3.13/site-packages (from ipython>=6.1.0->ipywidgets>=8->alloylens==0.0.6) (0.6.3)\n",
      "Requirement already satisfied: six>=1.5 in /opt/homebrew/Caskroom/miniconda/base/lib/python3.13/site-packages (from python-dateutil>=2.8.2->pandas>=1.5->alloylens==0.0.6) (1.17.0)\n",
      "Requirement already satisfied: parso<0.9.0,>=0.8.4 in /opt/homebrew/Caskroom/miniconda/base/lib/python3.13/site-packages (from jedi>=0.16->ipython>=6.1.0->ipywidgets>=8->alloylens==0.0.6) (0.8.5)\n",
      "Requirement already satisfied: ptyprocess>=0.5 in /opt/homebrew/Caskroom/miniconda/base/lib/python3.13/site-packages (from pexpect>4.3->ipython>=6.1.0->ipywidgets>=8->alloylens==0.0.6) (0.7.0)\n",
      "Requirement already satisfied: wcwidth in /opt/homebrew/Caskroom/miniconda/base/lib/python3.13/site-packages (from prompt_toolkit<3.1.0,>=3.0.41->ipython>=6.1.0->ipywidgets>=8->alloylens==0.0.6) (0.2.14)\n",
      "Requirement already satisfied: executing>=1.2.0 in /opt/homebrew/Caskroom/miniconda/base/lib/python3.13/site-packages (from stack_data->ipython>=6.1.0->ipywidgets>=8->alloylens==0.0.6) (2.2.1)\n",
      "Requirement already satisfied: asttokens>=2.1.0 in /opt/homebrew/Caskroom/miniconda/base/lib/python3.13/site-packages (from stack_data->ipython>=6.1.0->ipywidgets>=8->alloylens==0.0.6) (3.0.0)\n",
      "Requirement already satisfied: pure-eval in /opt/homebrew/Caskroom/miniconda/base/lib/python3.13/site-packages (from stack_data->ipython>=6.1.0->ipywidgets>=8->alloylens==0.0.6) (0.2.3)\n",
      "Downloading https://test-files.pythonhosted.org/packages/4d/3d/861e06c528a340f7d770a0520afc5007a3372592d6954c90152673517ee6/alloylens-0.0.6-py3-none-any.whl (138 kB)\n",
      "Installing collected packages: alloylens\n",
      "  Attempting uninstall: alloylens\n",
      "    Found existing installation: alloylens 0.0.3\n",
      "    Uninstalling alloylens-0.0.3:\n",
      "      Successfully uninstalled alloylens-0.0.3\n",
      "Successfully installed alloylens-0.0.6\n"
     ]
    }
   ],
   "source": [
    "# !pip install -i https://test.pypi.org/simple/ --extra-index-url https://pypi.org/simple alloylens==0.0.6"
   ]
  },
  {
   "cell_type": "code",
   "execution_count": null,
   "id": "acdcddc8",
   "metadata": {},
   "outputs": [
    {
     "name": "stdout",
     "output_type": "stream",
     "text": [
      "Hello from alloylens!\n"
     ]
    }
   ],
   "source": [
    "import alloylens as al\n",
    "import pandas as pd\n",
    "\n",
    "al.say_hello()  # sanity check: should print \"Hello from alloylens!\""
   ]
  },
  {
   "cell_type": "code",
   "execution_count": null,
   "id": "09fbb823",
   "metadata": {},
   "outputs": [],
   "source": [
    "# load data\n",
    "dataset_name = \"./dataset/Rapid_Alloy_development.txt\"\n",
    "df = pd.read_csv(\n",
    "    dataset_name,\n",
    "    encoding=\"latin1\",\n",
    "    sep=\"\\t\",\n",
    "    usecols=range(70),\n",
    ")"
   ]
  },
  {
   "cell_type": "code",
   "execution_count": 20,
   "id": "f7e8aaaf",
   "metadata": {},
   "outputs": [],
   "source": [
    "# partition data by categories\n",
    "n_inputs = 6\n",
    "n_elements = 12\n",
    "\n",
    "all_cols = df.columns.tolist()\n",
    "input_cols = all_cols[:n_inputs]\n",
    "element_cols = all_cols[n_inputs : n_inputs + n_elements]\n",
    "microstructure_cols = all_cols[18 : 18 + 38]\n",
    "property_cols = all_cols[56:70]\n",
    "\n",
    "# print(f\"{len(input_cols)} Input scraps:\\n\", input_cols, end=\"\\n\")\n",
    "# print(f\"{len(element_cols)} Elements:\\n\", element_cols, end=\"\\n\")\n",
    "# print(f\"{len(microstructure_cols)} Microstructures:\\n\", microstructure_cols, end=\"\\n\")\n",
    "# print(f\"{len(property_cols)} Properties:\\n\", property_cols, end=\"\\n\")"
   ]
  },
  {
   "cell_type": "code",
   "execution_count": 21,
   "id": "101b87ff",
   "metadata": {},
   "outputs": [],
   "source": [
    "# handle missing data: fill with 0 \n",
    "df = df.fillna(value=0)\n",
    "\n",
    "# subsample\n",
    "n_samples = 2000 \n",
    "df = df.sample(n_samples)  "
   ]
  },
  {
   "cell_type": "code",
   "execution_count": 22,
   "id": "8d6c9fbe",
   "metadata": {},
   "outputs": [
    {
     "data": {
      "application/vnd.jupyter.widget-view+json": {
       "model_id": "0908563872e043a0af6dbcbf91ce45c4",
       "version_major": 2,
       "version_minor": 0
      },
      "text/plain": [
       "AlloyLensApp(children=(Label(value='Select features to plot:'), HBox(children=(Checkbox(value=True, descriptio…"
      ]
     },
     "execution_count": 22,
     "metadata": {},
     "output_type": "execute_result"
    }
   ],
   "source": [
    "groups = {\n",
    "    \"elements\": element_cols,\n",
    "    \"microstructures\": microstructure_cols,\n",
    "    \"properties\": property_cols,\n",
    "}\n",
    "\n",
    "# Full UI (checkboxes + Apply)\n",
    "app = al.AlloyLensApp(df, groups, x=\"elements\", y=\"properties\")\n",
    "app  "
   ]
  }
 ],
 "metadata": {
  "kernelspec": {
   "display_name": "Python 3 (ipykernel)",
   "language": "python",
   "name": "python3"
  },
  "language_info": {
   "codemirror_mode": {
    "name": "ipython",
    "version": 3
   },
   "file_extension": ".py",
   "mimetype": "text/x-python",
   "name": "python",
   "nbconvert_exporter": "python",
   "pygments_lexer": "ipython3",
   "version": "3.13.2"
  }
 },
 "nbformat": 4,
 "nbformat_minor": 5
}
